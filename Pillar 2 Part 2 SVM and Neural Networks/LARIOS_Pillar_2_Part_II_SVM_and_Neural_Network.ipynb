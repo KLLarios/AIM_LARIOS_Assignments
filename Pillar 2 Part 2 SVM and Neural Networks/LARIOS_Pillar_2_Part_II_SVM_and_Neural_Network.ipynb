{
  "nbformat": 4,
  "nbformat_minor": 0,
  "metadata": {
    "colab": {
      "provenance": []
    },
    "kernelspec": {
      "name": "python3",
      "display_name": "Python 3"
    },
    "language_info": {
      "name": "python"
    }
  },
  "cells": [
    {
      "cell_type": "markdown",
      "source": [
        "**AIM Assignment\n",
        "Pillar 2 Part 2: Support Vector Machines and Nueral Networks**"
      ],
      "metadata": {
        "id": "OF7rTyZRqwC_"
      }
    },
    {
      "cell_type": "code",
      "execution_count": null,
      "metadata": {
        "id": "oEWhmyVbmIe2"
      },
      "outputs": [],
      "source": []
    }
  ]
}